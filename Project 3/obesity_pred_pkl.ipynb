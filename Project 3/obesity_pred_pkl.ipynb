{
  "nbformat": 4,
  "nbformat_minor": 0,
  "metadata": {
    "colab": {
      "provenance": [],
      "authorship_tag": "ABX9TyMCiqnVv0ZWOP0/oVF/o/5V",
      "include_colab_link": true
    },
    "kernelspec": {
      "name": "python3",
      "display_name": "Python 3"
    },
    "language_info": {
      "name": "python"
    }
  },
  "cells": [
    {
      "cell_type": "markdown",
      "metadata": {
        "id": "view-in-github",
        "colab_type": "text"
      },
      "source": [
        "<a href=\"https://colab.research.google.com/github/nithinrk11/Feynn-Labs-Machine-Learning-Internship/blob/main/Project%203/obesity_pred_pkl.ipynb\" target=\"_parent\"><img src=\"https://colab.research.google.com/assets/colab-badge.svg\" alt=\"Open In Colab\"/></a>"
      ]
    },
    {
      "cell_type": "code",
      "source": [
        "!git clone https://github.com/nithinrk11/Feynn-Labs-Machine-Learning-Internship.git\n",
        "%cd Feynn-Labs-Machine-Learning-Internship"
      ],
      "metadata": {
        "colab": {
          "base_uri": "https://localhost:8080/"
        },
        "id": "b6u-DyZoC4dW",
        "outputId": "6d1235de-8e95-4a9c-9274-3c85a493ba15"
      },
      "execution_count": null,
      "outputs": [
        {
          "output_type": "stream",
          "name": "stdout",
          "text": [
            "Cloning into 'Feynn-Labs-Machine-Learning-Internship'...\n",
            "remote: Enumerating objects: 267, done.\u001b[K\n",
            "remote: Counting objects: 100% (140/140), done.\u001b[K\n",
            "remote: Compressing objects: 100% (132/132), done.\u001b[K\n",
            "remote: Total 267 (delta 68), reused 5 (delta 5), pack-reused 127 (from 1)\u001b[K\n",
            "Receiving objects: 100% (267/267), 11.02 MiB | 9.59 MiB/s, done.\n",
            "Resolving deltas: 100% (108/108), done.\n",
            "/content/Feynn-Labs-Machine-Learning-Internship/Feynn-Labs-Machine-Learning-Internship\n"
          ]
        }
      ]
    },
    {
      "cell_type": "markdown",
      "source": [
        "##Load the dependencies"
      ],
      "metadata": {
        "id": "Xd9XsDveBted"
      }
    },
    {
      "cell_type": "code",
      "source": [
        "import pickle\n",
        "import numpy as np\n",
        "import pandas as pd"
      ],
      "metadata": {
        "id": "bjv5wZEbAKZm"
      },
      "execution_count": null,
      "outputs": []
    },
    {
      "cell_type": "markdown",
      "source": [
        "##Load the trained models"
      ],
      "metadata": {
        "id": "sCwhgLznC6AC"
      }
    },
    {
      "cell_type": "code",
      "source": [
        "# Load the Random Forest model\n",
        "with open('/content/Feynn-Labs-Machine-Learning-Internship/Project 3/trained_models/rf_model.pkl', 'rb') as f:\n",
        "    rf_model = pickle.load(f)\n",
        "\n",
        "# Load the label encoder\n",
        "with open('/content/Feynn-Labs-Machine-Learning-Internship/Project 3/trained_models/label_encoder.pkl', 'rb') as f:\n",
        "    label_encoder = pickle.load(f)\n",
        "\n",
        "# Load the feature scaler\n",
        "with open('/content/Feynn-Labs-Machine-Learning-Internship/Project 3/trained_models/scaler.pkl', 'rb') as f:\n",
        "    scaler = pickle.load(f)\n"
      ],
      "metadata": {
        "id": "1C-AlPlF-NM0"
      },
      "execution_count": null,
      "outputs": []
    },
    {
      "cell_type": "markdown",
      "source": [
        "##Performing the predictions based on random input data"
      ],
      "metadata": {
        "id": "as-33JCxDAYi"
      }
    },
    {
      "cell_type": "code",
      "source": [
        "\n",
        "# Define the new data point\n",
        "new_data = {\n",
        "    'Gender': [1],  # Male (0 for Female, 1 for Male)\n",
        "    'Age': [25],\n",
        "    'Height': [1.75],\n",
        "    'Weight': [30],\n",
        "    'family_history_with_overweight': [1],  # Yes (1) or No (0)\n",
        "    'FCVC': [2],  # Food Consumption per Day\n",
        "    'NCP': [3],  # Number of Main Meals\n",
        "    'CAEC': [1],  # Always (1) or Sometimes (0) for 'Consumption of Food between Meals'\n",
        "    'CH2O': [2],  # Daily Water Intake\n",
        "    'FAF': [2],  # Physical Activity Frequency\n",
        "    'TUE': [2],  # Time using technology\n",
        "    'CALC': [0]   # Alcohol Consumption (No)\n",
        "}\n",
        "\n",
        "# Convert the new data into a DataFrame\n",
        "new_data_df = pd.DataFrame(new_data)\n",
        "\n",
        "# Scale the new data using the previously saved scaler\n",
        "new_data_scaled = scaler.transform(new_data_df)\n",
        "\n",
        "# Predict the obesity type using the loaded Random Forest model\n",
        "prediction = rf_model.predict(new_data_scaled)\n",
        "\n",
        "# Decode the prediction (if necessary)\n",
        "decoded_prediction = label_encoder.inverse_transform(prediction)\n",
        "\n",
        "print(f\"Predicted Obesity Type: {decoded_prediction[0]}\")\n"
      ],
      "metadata": {
        "colab": {
          "base_uri": "https://localhost:8080/"
        },
        "id": "Ak_Az2KS_6BC",
        "outputId": "9710a832-c6fb-4f48-b34b-fc5a275cfc2f"
      },
      "execution_count": null,
      "outputs": [
        {
          "output_type": "stream",
          "name": "stdout",
          "text": [
            "Predicted Obesity Type: Normal_Weight\n"
          ]
        }
      ]
    }
  ]
}